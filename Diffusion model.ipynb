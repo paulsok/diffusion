{
 "cells": [
  {
   "cell_type": "code",
   "execution_count": 1,
   "metadata": {
    "collapsed": false
   },
   "outputs": [
    {
     "output_type": "execute_result",
     "data": {
      "text/plain": [
       "Piecewise(((a*r + b*r - 1)*exp(-R*b + r*(a + b))/(a**2 + 2*a*b + b**2), Ne(a**2 + 2*a*b + b**2, 0)), (r**2/2, True))"
      ],
      "text/latex": "$\\displaystyle \\begin{cases} \\frac{\\left(a r + b r - 1\\right) e^{- R b + r \\left(a + b\\right)}}{a^{2} + 2 a b + b^{2}} & \\text{for}\\: a^{2} + 2 a b + b^{2} \\neq 0 \\\\\\frac{r^{2}}{2} & \\text{otherwise} \\end{cases}$"
     },
     "metadata": {},
     "execution_count": 1
    }
   ],
   "source": [
    "from sympy import *\n",
    "\n",
    "r=Symbol('r')\n",
    "R=Symbol('R')\n",
    "a=Symbol('a')\n",
    "b=Symbol('b')\n",
    "\n",
    "integrate(r*exp(r*(a+b)-b*R),r)"
   ]
  },
  {
   "cell_type": "code",
   "execution_count": 2,
   "metadata": {
    "collapsed": false
   },
   "outputs": [
    {
     "data": {
      "text/latex": [
       "$\\displaystyle \\begin{cases} 0 & \\text{for}\\: a - b = 0 \\wedge a + b = 0 \\\\\\frac{- \\frac{R^{2} \\left(a - b\\right) \\left(a^{2} - 2 a b + b^{2}\\right)}{2} + R \\left(a^{2} - 2 a b + b^{2}\\right) e^{R \\left(a - b\\right)} + \\left(1 - e^{R \\left(a - b\\right)}\\right) \\left(a - b\\right)}{\\left(a - b\\right) \\left(a^{2} - 2 a b + b^{2}\\right)} & \\text{for}\\: a + b = 0 \\wedge a^{2} - 2 a b + b^{2} \\neq 0 \\\\\\frac{R \\left(R \\left(- a + b\\right) + 2 e^{R \\left(a - b\\right)} - 2\\right)}{2 \\left(a - b\\right)} & \\text{for}\\: a + b = 0 \\\\\\frac{\\frac{R^{2} \\left(a + b\\right) \\left(a^{2} + 2 a b + b^{2}\\right)}{2} - R \\left(a^{2} + 2 a b + b^{2}\\right) e^{R \\left(a + b\\right)} - \\left(1 - e^{R \\left(a + b\\right)}\\right) \\left(a + b\\right)}{\\left(a + b\\right) \\left(a^{2} + 2 a b + b^{2}\\right)} & \\text{for}\\: a - b = 0 \\wedge a^{2} + 2 a b + b^{2} \\neq 0 \\\\\\frac{R \\left(R \\left(a + b\\right) - 2 e^{R \\left(a + b\\right)} + 2\\right)}{2 \\left(a + b\\right)} & \\text{for}\\: a - b = 0 \\\\\\frac{- R \\left(a - b\\right) \\left(a^{2} - 2 a b + b^{2}\\right) \\left(a^{2} + 2 a b + b^{2}\\right) e^{R \\left(a + b\\right)} + R \\left(a + b\\right) \\left(a^{2} - 2 a b + b^{2}\\right) \\left(a^{2} + 2 a b + b^{2}\\right) e^{R \\left(a - b\\right)} + \\left(1 - e^{R \\left(a - b\\right)}\\right) \\left(a - b\\right) \\left(a + b\\right) \\left(a^{2} + 2 a b + b^{2}\\right) - \\left(1 - e^{R \\left(a + b\\right)}\\right) \\left(a - b\\right) \\left(a + b\\right) \\left(a^{2} - 2 a b + b^{2}\\right)}{\\left(a - b\\right) \\left(a + b\\right) \\left(a^{2} - 2 a b + b^{2}\\right) \\left(a^{2} + 2 a b + b^{2}\\right)} & \\text{for}\\: a^{2} - 2 a b + b^{2} \\neq 0 \\wedge a^{2} + 2 a b + b^{2} \\neq 0 \\\\\\frac{R \\left(1 - e^{R \\left(a + b\\right)}\\right) \\left(a - b\\right) \\left(a^{2} - 2 a b + b^{2}\\right) + R \\left(a + b\\right) \\left(a^{2} - 2 a b + b^{2}\\right) e^{R \\left(a - b\\right)} + \\left(1 - e^{R \\left(a - b\\right)}\\right) \\left(a - b\\right) \\left(a + b\\right)}{\\left(a - b\\right) \\left(a + b\\right) \\left(a^{2} - 2 a b + b^{2}\\right)} & \\text{for}\\: a^{2} - 2 a b + b^{2} \\neq 0 \\\\\\frac{- R \\left(a - b\\right) \\left(a^{2} + 2 a b + b^{2}\\right) e^{R \\left(a + b\\right)} + R \\left(a + b\\right) \\left(e^{R \\left(a - b\\right)} - 1\\right) \\left(a^{2} + 2 a b + b^{2}\\right) + \\left(a - b\\right) \\left(a + b\\right) \\left(e^{R \\left(a + b\\right)} - 1\\right)}{\\left(a - b\\right) \\left(a + b\\right) \\left(a^{2} + 2 a b + b^{2}\\right)} & \\text{for}\\: a^{2} + 2 a b + b^{2} \\neq 0 \\\\\\frac{R \\left(- \\left(1 - e^{R \\left(a - b\\right)}\\right) \\left(a + b\\right) + \\left(1 - e^{R \\left(a + b\\right)}\\right) \\left(a - b\\right)\\right)}{\\left(a - b\\right) \\left(a + b\\right)} & \\text{otherwise} \\end{cases}$"
      ],
      "text/plain": [
       "Piecewise((0, Eq(a + b, 0) & Eq(a - b, 0)), ((-R**2*(a - b)*(a**2 - 2*a*b + b**2)/2 + R*(a**2 - 2*a*b + b**2)*exp(R*(a - b)) + (1 - exp(R*(a - b)))*(a - b))/((a - b)*(a**2 - 2*a*b + b**2)), Eq(a + b, 0) & Ne(a**2 - 2*a*b + b**2, 0)), (R*(R*(-a + b) + 2*exp(R*(a - b)) - 2)/(2*(a - b)), Eq(a + b, 0)), ((R**2*(a + b)*(a**2 + 2*a*b + b**2)/2 - R*(a**2 + 2*a*b + b**2)*exp(R*(a + b)) - (1 - exp(R*(a + b)))*(a + b))/((a + b)*(a**2 + 2*a*b + b**2)), Eq(a - b, 0) & Ne(a**2 + 2*a*b + b**2, 0)), (R*(R*(a + b) - 2*exp(R*(a + b)) + 2)/(2*(a + b)), Eq(a - b, 0)), ((-R*(a - b)*(a**2 - 2*a*b + b**2)*(a**2 + 2*a*b + b**2)*exp(R*(a + b)) + R*(a + b)*(a**2 - 2*a*b + b**2)*(a**2 + 2*a*b + b**2)*exp(R*(a - b)) + (1 - exp(R*(a - b)))*(a - b)*(a + b)*(a**2 + 2*a*b + b**2) - (1 - exp(R*(a + b)))*(a - b)*(a + b)*(a**2 - 2*a*b + b**2))/((a - b)*(a + b)*(a**2 - 2*a*b + b**2)*(a**2 + 2*a*b + b**2)), Ne(a**2 - 2*a*b + b**2, 0) & Ne(a**2 + 2*a*b + b**2, 0)), ((R*(1 - exp(R*(a + b)))*(a - b)*(a**2 - 2*a*b + b**2) + R*(a + b)*(a**2 - 2*a*b + b**2)*exp(R*(a - b)) + (1 - exp(R*(a - b)))*(a - b)*(a + b))/((a - b)*(a + b)*(a**2 - 2*a*b + b**2)), Ne(a**2 - 2*a*b + b**2, 0)), ((-R*(a - b)*(a**2 + 2*a*b + b**2)*exp(R*(a + b)) + R*(a + b)*(exp(R*(a - b)) - 1)*(a**2 + 2*a*b + b**2) + (a - b)*(a + b)*(exp(R*(a + b)) - 1))/((a - b)*(a + b)*(a**2 + 2*a*b + b**2)), Ne(a**2 + 2*a*b + b**2, 0)), (R*(-(1 - exp(R*(a - b)))*(a + b) + (1 - exp(R*(a + b)))*(a - b))/((a - b)*(a + b)), True))"
      ]
     },
     "execution_count": 2,
     "metadata": {},
     "output_type": "execute_result"
    }
   ],
   "source": [
    "simplify(integrate(r*(exp(r*(a-b))-exp(r*(a+b))),(r,0,R)))"
   ]
  },
  {
   "cell_type": "code",
   "execution_count": 3,
   "metadata": {
    "collapsed": false
   },
   "outputs": [
    {
     "name": "stdout",
     "output_type": "stream",
     "text": [
      "R**3*(R*(a + b)*(-(1 - exp(R*(a - b)))*(a + b) + (1 - exp(R*(a + b)))*(a - b))*exp(R*b) - (1 - exp(2*R*b))*(a - b)*(R*(a + b) - 1)*exp(R*a))*(exp(R*a) - exp(R*(a + 2*b)))/((1 - exp(2*R*b))*(a - b)*(a + b)**2)\n"
     ]
    }
   ],
   "source": [
    "I=simplify(R**3*(exp(a*R)-exp(R*(a+2*b)))*\n",
    "         ((exp(a*R)*(1-R*(a+b)))/(a+b)**2+\n",
    "          (1/(exp(-b*R)-exp(b*R)))*( R*(-(1-exp(R*(a-b)))*(a+b)+(1-exp(R*(a+b)))*(a-b))/((a-b)*(a+b)) )))\n",
    "print(I)"
   ]
  },
  {
   "cell_type": "code",
   "execution_count": 4,
   "metadata": {
    "collapsed": false
   },
   "outputs": [],
   "source": [
    "integrate(I,(R,0,+oo))"
   ]
  }
 ],
 "metadata": {
  "kernelspec": {
   "display_name": "Python 3",
   "language": "python",
   "name": "python3"
  },
  "language_info": {
   "codemirror_mode": {
    "name": "ipython",
    "version": 3
   },
   "file_extension": ".py",
   "mimetype": "text/x-python",
   "name": "python",
   "nbconvert_exporter": "python",
   "pygments_lexer": "ipython3",
   "version": "3.8.5-final"
  }
 },
 "nbformat": 4,
 "nbformat_minor": 0
}